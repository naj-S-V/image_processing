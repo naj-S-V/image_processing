{
 "cells": [
  {
   "cell_type": "code",
   "execution_count": 10,
   "id": "f28e4162",
   "metadata": {},
   "outputs": [
    {
     "name": "stdout",
     "output_type": "stream",
     "text": [
      "[[ -0.96068799]\n",
      " [  4.82878152]\n",
      " [-19.67272424]\n",
      " [  1.        ]]\n",
      "[[  6.87940049]\n",
      " [  4.24310705]\n",
      " [-19.52330443]\n",
      " [  1.        ]]\n",
      "[[-1.19975321e-08 -1.20581369e-06  8.10150350e-04]\n",
      " [ 3.04336039e-06  5.88843356e-08 -1.39219298e-02]\n",
      " [-1.89773637e-03  1.22243249e-02  1.00000000e+00]]\n"
     ]
    }
   ],
   "source": [
    "import numpy as np\n",
    "import cv2 as cv\n",
    "import glob\n",
    "import matplotlib.pyplot as plt\n",
    "import json\n",
    "\n",
    "chessboardSize = (7,7)\n",
    "frameSize = (1920,1080)\n",
    "criteria = (cv.TERM_CRITERIA_EPS + cv.TERM_CRITERIA_MAX_ITER, 30, 0.001)\n",
    "objp = np.zeros((chessboardSize[0] * chessboardSize[1], 3), np.float32)\n",
    "objp[:,:2] = np.mgrid[0:chessboardSize[0],0:chessboardSize[1]].T.reshape(-1,2)\n",
    "objpoints = [] # 3d point in real world space\n",
    "imgpointsL = [] # 2d points in image plane.\n",
    "imgpointsR = [] # 2d points in image plane.\n",
    "imagesLeft = sorted(glob.glob('images/stereoLeft/*.png'))\n",
    "imagesRight = sorted(glob.glob('images/stereoRight/*.png'))\n",
    "for imgLeft, imgRight in zip(imagesLeft, imagesRight):\n",
    "    imgL = cv.imread(imgLeft)\n",
    "    imgR = cv.imread(imgRight)\n",
    "    grayL = cv.cvtColor(imgL, cv.COLOR_BGR2GRAY)\n",
    "    grayR = cv.cvtColor(imgR, cv.COLOR_BGR2GRAY)\n",
    "    # Find the chess board corners\n",
    "    retL, cornersL = cv.findChessboardCorners(grayL, chessboardSize, None)\n",
    "    retR, cornersR = cv.findChessboardCorners(grayR, chessboardSize, None)\n",
    "    # If found, add object points, image points (after refining them)\n",
    "    if retL and retR == True:\n",
    "        objpoints.append(objp)\n",
    "        cornersL = cv.cornerSubPix(grayL, cornersL, (11,11), (-1,-1), criteria)\n",
    "        imgpointsL.append(cornersL)\n",
    "        cornersR = cv.cornerSubPix(grayR, cornersR, (11,11), (-1,-1), criteria)\n",
    "        imgpointsR.append(cornersR)\n",
    "\n",
    "retL, cameraMatrixL, distL, rvecsL, tvecsL = cv.calibrateCamera(objpoints, imgpointsL, frameSize, None, None)\n",
    "heightL, widthL, channelsL = imgL.shape\n",
    "newCameraMatrixL, roi_L = cv.getOptimalNewCameraMatrix(cameraMatrixL, distL, (widthL, heightL), 1, (widthL, heightL))\n",
    "retR, cameraMatrixR, distR, rvecsR, tvecsR = cv.calibrateCamera(objpoints, imgpointsR, frameSize, None, None)\n",
    "heightR, widthR, channelsR = imgR.shape\n",
    "newCameraMatrixR, roi_R = cv.getOptimalNewCameraMatrix(cameraMatrixR, distR, (widthR, heightR), 1, (widthR, heightR))\n",
    "flags = 0\n",
    "flags |= cv.CALIB_FIX_INTRINSIC\n",
    "criteria_stereo= (cv.TERM_CRITERIA_EPS + cv.TERM_CRITERIA_MAX_ITER, 30, 0.001)\n",
    "retStereo, newCameraMatrixL, distL, newCameraMatrixR, distR, rot, trans, essentialMatrix, fundamentalMatrix = cv.stereoCalibrate(objpoints, imgpointsL, imgpointsR, newCameraMatrixL, distL, newCameraMatrixR, distR, grayL.shape[::-1], criteria_stereo, flags)\n",
    "rodrigLeft = cv.Rodrigues(rvecsL[2])\n",
    "cLeft = np.linalg.inv(rodrigLeft[0]) @ (-tvecsL[2])\n",
    "cLeft = np.concatenate((cLeft, np.array([[1]])), axis = 0)\n",
    "print(cLeft)\n",
    "rodrigRight = cv.Rodrigues(rvecsR[2])\n",
    "cRight = np.linalg.inv(rodrigRight[0]) @ (-tvecsR[2])\n",
    "cRight = np.concatenate((cRight, np.array([[1]])), axis = 0)\n",
    "print(cRight)\n",
    "print(fundamentalMatrix)"
   ]
  },
  {
   "cell_type": "code",
   "execution_count": 29,
   "id": "406c8796",
   "metadata": {},
   "outputs": [
    {
     "name": "stdout",
     "output_type": "stream",
     "text": [
      "[[[-0.1482075   0.9889563  56.625587  ]]\n",
      "\n",
      " [[-0.1482075   0.9889563  56.625587  ]]\n",
      "\n",
      " [[-0.1482075   0.9889563  56.625587  ]]\n",
      "\n",
      " ...\n",
      "\n",
      " [[-0.15114956  0.9885109  70.32749   ]]\n",
      "\n",
      " [[-0.15114956  0.9885109  70.32749   ]]\n",
      "\n",
      " [[-0.15114956  0.9885109  70.32749   ]]]\n"
     ]
    }
   ],
   "source": [
    "img = cv.imread('scanL/0010.png')\n",
    "img = np.int64(img)\n",
    "lines = cv.computeCorrespondEpilines(img.reshape(-1, 1, 2), 2, fundamentalMatrix)\n",
    "print(lines)"
   ]
  },
  {
   "cell_type": "code",
   "execution_count": null,
   "id": "a31ea850",
   "metadata": {},
   "outputs": [],
   "source": []
  }
 ],
 "metadata": {
  "kernelspec": {
   "display_name": "Python 3",
   "language": "python",
   "name": "python3"
  },
  "language_info": {
   "codemirror_mode": {
    "name": "ipython",
    "version": 3
   },
   "file_extension": ".py",
   "mimetype": "text/x-python",
   "name": "python",
   "nbconvert_exporter": "python",
   "pygments_lexer": "ipython3",
   "version": "3.6.13"
  }
 },
 "nbformat": 4,
 "nbformat_minor": 5
}
