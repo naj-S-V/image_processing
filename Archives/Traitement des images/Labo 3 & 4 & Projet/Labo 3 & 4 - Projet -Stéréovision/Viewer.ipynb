{
 "cells": [
  {
   "cell_type": "code",
   "execution_count": 4,
   "id": "cc6cdd70",
   "metadata": {},
   "outputs": [
    {
     "name": "stdout",
     "output_type": "stream",
     "text": [
      "[[1. 1.]\n",
      " [1. 1.]\n",
      " [1. 1.]\n",
      " ...\n",
      " [1. 1.]\n",
      " [1. 1.]\n",
      " [1. 1.]]\n",
      "[[ 332.78094482  333.58773804]\n",
      " [ 332.78094482  333.58773804]\n",
      " [ 333.06478882  333.87347412]\n",
      " ...\n",
      " [-132.51429749 -133.51477051]\n",
      " [-132.47943115 -133.47982788]\n",
      " [-132.47943115 -133.47982788]]\n",
      "(12828, 2) (12828, 2) (12828, 2) (12828, 2)\n"
     ]
    },
    {
     "data": {
      "text/plain": [
       "\"\\n# Create the data.\\nfrom numpy import pi, sin, cos, mgrid\\ndphi, dtheta = pi/250.0, pi/250.0\\n[phi,theta] = mgrid[0:pi+dphi*1.5:dphi,0:2*pi+dtheta*1.5:dtheta]\\nm0 = 4; m1 = 3; m2 = 2; m3 = 3; m4 = 6; m5 = 2; m6 = 6; m7 = 4;\\nr = sin(m0*phi)**m1 + cos(m2*phi)**m3 + sin(m4*theta)**m5 + cos(m6*theta)**m7\\nx = r*sin(phi)*cos(theta)\\ny = r*cos(phi)\\nz = r*sin(phi)*sin(theta)\\nprint(x)\\nprint(y)\\n# View it.\\nfrom mayavi import mlab\\ns = mlab.mesh(x, y, z)\\nmlab.show()\\n\\nmlab.figure(1, fgcolor=(0, 0, 0), bgcolor=(1, 1, 1))\\n\\n# Visualize the points\\npts = mlab.points3d(x, y, z, z, scale_mode='none', scale_factor=100)\\n\\n# Create and visualize the mesh\\nmesh = mlab.pipeline.delaunay2d(pts)\\nsurf = mlab.pipeline.surface(mesh)\\n\\nmlab.view(0, 2000, -2500)\""
      ]
     },
     "execution_count": 4,
     "metadata": {},
     "output_type": "execute_result"
    }
   ],
   "source": [
    "import json\n",
    "import numpy as np\n",
    "from mayavi import mlab\n",
    "\n",
    "points = json.loads(open(\"points2.txt\", \"r\").read())\n",
    "\n",
    "x = points[\"x\"]\n",
    "y = points[\"y\"]\n",
    "z = points[\"z\"]\n",
    "\n",
    "x = np.array(x)\n",
    "y = np.array(y)\n",
    "z = np.array(z)\n",
    "\n",
    "f = np.ones((len(x), 2))\n",
    "t = abs(z)\n",
    "print(f)\n",
    "print(x)\n",
    "print(x.shape, y.shape, z.shape, t.shape)\n",
    "#s = mlab.mesh(x, y, z)\n",
    "m = mlab.points3d(x, y, z, f, color=(0,0,0))\n",
    "s = mlab.pipeline.surface(mlab.pipeline.delaunay2d(m), color=(0.5,0.5,0.5))\n",
    "mlab.show()\n",
    "'''\n",
    "# Create the data.\n",
    "from numpy import pi, sin, cos, mgrid\n",
    "dphi, dtheta = pi/250.0, pi/250.0\n",
    "[phi,theta] = mgrid[0:pi+dphi*1.5:dphi,0:2*pi+dtheta*1.5:dtheta]\n",
    "m0 = 4; m1 = 3; m2 = 2; m3 = 3; m4 = 6; m5 = 2; m6 = 6; m7 = 4;\n",
    "r = sin(m0*phi)**m1 + cos(m2*phi)**m3 + sin(m4*theta)**m5 + cos(m6*theta)**m7\n",
    "x = r*sin(phi)*cos(theta)\n",
    "y = r*cos(phi)\n",
    "z = r*sin(phi)*sin(theta)\n",
    "print(x)\n",
    "print(y)\n",
    "# View it.\n",
    "from mayavi import mlab\n",
    "s = mlab.mesh(x, y, z)\n",
    "mlab.show()\n",
    "\n",
    "mlab.figure(1, fgcolor=(0, 0, 0), bgcolor=(1, 1, 1))\n",
    "\n",
    "# Visualize the points\n",
    "pts = mlab.points3d(x, y, z, z, scale_mode='none', scale_factor=100)\n",
    "\n",
    "# Create and visualize the mesh\n",
    "mesh = mlab.pipeline.delaunay2d(pts)\n",
    "surf = mlab.pipeline.surface(mesh)\n",
    "\n",
    "mlab.view(0, 2000, -2500)'''"
   ]
  },
  {
   "cell_type": "code",
   "execution_count": null,
   "id": "bc7bf31e",
   "metadata": {},
   "outputs": [],
   "source": []
  },
  {
   "cell_type": "code",
   "execution_count": null,
   "id": "db35445d",
   "metadata": {},
   "outputs": [],
   "source": []
  }
 ],
 "metadata": {
  "kernelspec": {
   "display_name": "Python 3",
   "language": "python",
   "name": "python3"
  },
  "language_info": {
   "codemirror_mode": {
    "name": "ipython",
    "version": 3
   },
   "file_extension": ".py",
   "mimetype": "text/x-python",
   "name": "python",
   "nbconvert_exporter": "python",
   "pygments_lexer": "ipython3",
   "version": "3.6.13"
  }
 },
 "nbformat": 4,
 "nbformat_minor": 5
}
